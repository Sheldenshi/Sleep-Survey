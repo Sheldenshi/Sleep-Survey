{
 "cells": [
  {
   "cell_type": "code",
   "execution_count": 2,
   "metadata": {},
   "outputs": [],
   "source": [
    "from datascience import *\n",
    "import numpy as np\n",
    "import matplotlib\n",
    "%matplotlib inline\n",
    "import matplotlib.pyplot as plots\n",
    "plots.style.use('fivethirtyeight')\n",
    "import pandas as pd\n",
    "import os"
   ]
  },
  {
   "cell_type": "code",
   "execution_count": 56,
   "metadata": {},
   "outputs": [],
   "source": [
    "def standard_units(any_numbers):\n",
    "    return (any_numbers - np.mean(any_numbers))/np.std(any_numbers) \n",
    "  \n",
    "def correlation(t, label_x, label_y):\n",
    "    return np.mean(standard_units(t.column(label_x))*standard_units(t.column(label_y)))\n",
    "\n",
    "def slope(t, label_x, label_y):\n",
    "    r = correlation(t, label_x, label_y)\n",
    "    return r*np.std(t.column(label_y))/np.std(t.column(label_x))\n",
    "\n",
    "def intercept(t, label_x, label_y):\n",
    "    return np.mean(t.column(label_y)) - slope(t, label_x, label_y)\n",
    "\n",
    "def fit(table, x, y):\n",
    "    a = slope(table, x, y)\n",
    "    b = intercept(table, x, y)\n",
    "    return a * table.column(x) + b\n",
    "                                              \n",
    "def residual(table, x, y):\n",
    "    return table.column(y) - fit(table, x, y)\n",
    "\n",
    "def scatter_fit(table, x, y):\n",
    "    table.scatter(x, y, s=15)\n",
    "    plots.plot(table.column(x), fit(table, x, y), lw=4, color='gold')\n",
    "    plots.xlabel(x)\n",
    "    plots.ylabel(y)                             \n",
    "    \n",
    "def residual_plot(table, x, y):\n",
    "    x_array = table.column(x)\n",
    "    t = Table().with_columns(\n",
    "            x, x_array,\n",
    "            'residuals', residual(table, x, y)\n",
    "        )\n",
    "    t.scatter(x, 'residuals', color='r')\n",
    "    xlims = make_array(min(x_array), max(x_array))\n",
    "    plots.plot(xlims, make_array(0, 0), color='darkblue', lw=4)\n",
    "    plots.title('Residual Plot')\n",
    "    \n",
    "def regression_diagnostic_plots(table, x, y):\n",
    "    scatter_fit(table, x, y)\n",
    "    residual_plot(table, x, y)\n"
   ]
  },
  {
   "cell_type": "code",
   "execution_count": 57,
   "metadata": {
    "scrolled": true
   },
   "outputs": [
    {
     "data": {
      "text/html": [
       "<table border=\"1\" class=\"dataframe\">\n",
       "    <thead>\n",
       "        <tr>\n",
       "            <th>Pacific Time</th> <th>Sleep Needed</th> <th>Relationship</th> <th>Sleep Time</th> <th>Sleep Hours</th> <th>Quality</th> <th>Ability</th> <th>GPA</th>\n",
       "        </tr>\n",
       "    </thead>\n",
       "    <tbody>\n",
       "        <tr>\n",
       "            <td>Y           </td> <td>6           </td> <td>P           </td> <td>1         </td> <td>8          </td> <td>3      </td> <td>3      </td> <td>3.8 </td>\n",
       "        </tr>\n",
       "        <tr>\n",
       "            <td>Y           </td> <td>7           </td> <td>P           </td> <td>2         </td> <td>7          </td> <td>4      </td> <td>5      </td> <td>3.78</td>\n",
       "        </tr>\n",
       "        <tr>\n",
       "            <td>Y           </td> <td>8           </td> <td>P           </td> <td>3         </td> <td>8          </td> <td>4      </td> <td>2      </td> <td>3.9 </td>\n",
       "        </tr>\n",
       "        <tr>\n",
       "            <td>Y           </td> <td>8           </td> <td>P           </td> <td>3         </td> <td>7          </td> <td>4      </td> <td>1      </td> <td>3.01</td>\n",
       "        </tr>\n",
       "        <tr>\n",
       "            <td>N           </td> <td>8           </td> <td>P           </td> <td>3         </td> <td>7          </td> <td>5      </td> <td>5      </td> <td>0   </td>\n",
       "        </tr>\n",
       "        <tr>\n",
       "            <td>Y           </td> <td>8           </td> <td>P           </td> <td>2         </td> <td>8          </td> <td>4      </td> <td>3      </td> <td>3.74</td>\n",
       "        </tr>\n",
       "        <tr>\n",
       "            <td>Y           </td> <td>8           </td> <td>P           </td> <td>1         </td> <td>5          </td> <td>2      </td> <td>4      </td> <td>3.7 </td>\n",
       "        </tr>\n",
       "        <tr>\n",
       "            <td>Y           </td> <td>8           </td> <td>P           </td> <td>3         </td> <td>6          </td> <td>4      </td> <td>4      </td> <td>3.3 </td>\n",
       "        </tr>\n",
       "        <tr>\n",
       "            <td>N           </td> <td>6           </td> <td>P           </td> <td>6         </td> <td>6          </td> <td>4      </td> <td>4      </td> <td>0   </td>\n",
       "        </tr>\n",
       "        <tr>\n",
       "            <td>Y           </td> <td>8           </td> <td>P           </td> <td>1.5       </td> <td>6          </td> <td>3      </td> <td>5      </td> <td>4   </td>\n",
       "        </tr>\n",
       "    </tbody>\n",
       "</table>\n",
       "<p>... (121 rows omitted)</p>"
      ],
      "text/plain": [
       "Pacific Time | Sleep Needed | Relationship | Sleep Time | Sleep Hours | Quality | Ability | GPA\n",
       "Y            | 6            | P            | 1          | 8           | 3       | 3       | 3.8\n",
       "Y            | 7            | P            | 2          | 7           | 4       | 5       | 3.78\n",
       "Y            | 8            | P            | 3          | 8           | 4       | 2       | 3.9\n",
       "Y            | 8            | P            | 3          | 7           | 4       | 1       | 3.01\n",
       "N            | 8            | P            | 3          | 7           | 5       | 5       | 0\n",
       "Y            | 8            | P            | 2          | 8           | 4       | 3       | 3.74\n",
       "Y            | 8            | P            | 1          | 5           | 2       | 4       | 3.7\n",
       "Y            | 8            | P            | 3          | 6           | 4       | 4       | 3.3\n",
       "N            | 6            | P            | 6          | 6           | 4       | 4       | 0\n",
       "Y            | 8            | P            | 1.5        | 6           | 3       | 5       | 4\n",
       "... (121 rows omitted)"
      ]
     },
     "execution_count": 57,
     "metadata": {},
     "output_type": "execute_result"
    }
   ],
   "source": [
    "sleep = Table.read_table('sleep.csv')\n",
    "sleep"
   ]
  },
  {
   "cell_type": "markdown",
   "metadata": {},
   "source": [
    "# Data Breakdown"
   ]
  },
  {
   "cell_type": "code",
   "execution_count": 4,
   "metadata": {},
   "outputs": [
    {
     "data": {
      "text/plain": [
       "131"
      ]
     },
     "execution_count": 4,
     "metadata": {},
     "output_type": "execute_result"
    }
   ],
   "source": [
    "sleep.num_rows"
   ]
  },
  {
   "cell_type": "markdown",
   "metadata": {},
   "source": [
    "Number of people participated"
   ]
  },
  {
   "cell_type": "code",
   "execution_count": 5,
   "metadata": {},
   "outputs": [
    {
     "data": {
      "text/html": [
       "<table border=\"1\" class=\"dataframe\">\n",
       "    <thead>\n",
       "        <tr>\n",
       "            <th>Pacific Time</th> <th>count</th>\n",
       "        </tr>\n",
       "    </thead>\n",
       "    <tbody>\n",
       "        <tr>\n",
       "            <td>N           </td> <td>45   </td>\n",
       "        </tr>\n",
       "        <tr>\n",
       "            <td>Y           </td> <td>86   </td>\n",
       "        </tr>\n",
       "    </tbody>\n",
       "</table>"
      ],
      "text/plain": [
       "Pacific Time | count\n",
       "N            | 45\n",
       "Y            | 86"
      ]
     },
     "execution_count": 5,
     "metadata": {},
     "output_type": "execute_result"
    }
   ],
   "source": [
    "sleep.group(\"Pacific Time\")"
   ]
  },
  {
   "cell_type": "markdown",
   "metadata": {},
   "source": [
    "# Data Interpretation"
   ]
  },
  {
   "cell_type": "markdown",
   "metadata": {},
   "source": [
    "Number of participants in Pacific Time Zoon and Non-Pacific Time Zoon"
   ]
  },
  {
   "cell_type": "code",
   "execution_count": 58,
   "metadata": {},
   "outputs": [
    {
     "data": {
      "text/html": [
       "<table border=\"1\" class=\"dataframe\">\n",
       "    <thead>\n",
       "        <tr>\n",
       "            <th>Relationship</th> <th>count</th>\n",
       "        </tr>\n",
       "    </thead>\n",
       "    <tbody>\n",
       "        <tr>\n",
       "            <td>N           </td> <td>2    </td>\n",
       "        </tr>\n",
       "        <tr>\n",
       "            <td>NO          </td> <td>10   </td>\n",
       "        </tr>\n",
       "        <tr>\n",
       "            <td>P           </td> <td>119  </td>\n",
       "        </tr>\n",
       "    </tbody>\n",
       "</table>"
      ],
      "text/plain": [
       "Relationship | count\n",
       "N            | 2\n",
       "NO           | 10\n",
       "P            | 119"
      ]
     },
     "execution_count": 58,
     "metadata": {},
     "output_type": "execute_result"
    }
   ],
   "source": [
    "sleep.group(\"Relationship\")"
   ]
  },
  {
   "cell_type": "markdown",
   "metadata": {},
   "source": [
    "119 out of 131 people think that there is a positive relationship between sleep and academic performance"
   ]
  },
  {
   "cell_type": "code",
   "execution_count": 7,
   "metadata": {},
   "outputs": [
    {
     "data": {
      "text/plain": [
       "7.66412213740458"
      ]
     },
     "execution_count": 7,
     "metadata": {},
     "output_type": "execute_result"
    }
   ],
   "source": [
    "#sleep needed\n",
    "np.mean(sleep.column(1))"
   ]
  },
  {
   "cell_type": "markdown",
   "metadata": {},
   "source": [
    "On average people think humans need 7.66 hours/day"
   ]
  },
  {
   "cell_type": "code",
   "execution_count": 60,
   "metadata": {},
   "outputs": [
    {
     "data": {
      "text/plain": [
       "2.236641221374046"
      ]
     },
     "execution_count": 60,
     "metadata": {},
     "output_type": "execute_result"
    }
   ],
   "source": [
    "#sleep time\n",
    "np.mean(sleep.column(3))"
   ]
  },
  {
   "cell_type": "markdown",
   "metadata": {},
   "source": [
    "On Average students went to bed at 2.23 AM"
   ]
  },
  {
   "cell_type": "code",
   "execution_count": 9,
   "metadata": {},
   "outputs": [
    {
     "data": {
      "text/plain": [
       "(1.5988372093023255, 3.4555555555555557)"
      ]
     },
     "execution_count": 9,
     "metadata": {},
     "output_type": "execute_result"
    }
   ],
   "source": [
    "#sleep time difference\n",
    "pacific = sleep.where(\"Pacific Time\", are.equal_to(\"Y\"))\n",
    "no_pacific = sleep.where(\"Pacific Time\", are.equal_to(\"N\"))\n",
    "np.mean(pacific.column(3)), np.mean(no_pacific.column(3))"
   ]
  },
  {
   "cell_type": "markdown",
   "metadata": {},
   "source": [
    "Average bed time:<br>\n",
    "Pacific: 1:45 AM (student's local time) <br>\n",
    "Non-Pacific: 3:25 AM (student's local time) <br>"
   ]
  },
  {
   "cell_type": "code",
   "execution_count": 11,
   "metadata": {},
   "outputs": [
    {
     "data": {
      "text/plain": [
       "(3.5737837837837843, 3.7400000000000007)"
      ]
     },
     "execution_count": 11,
     "metadata": {},
     "output_type": "execute_result"
    }
   ],
   "source": [
    "def gpamean(t, x):\n",
    "    return np.average(t.column(x))\n",
    "\n",
    "shuffled = pacific_gpa.sample(with_replacement = False)\n",
    "repetition = 1000\n",
    "mean_gpa = make_array()\n",
    "\n",
    "for i in np.arange(repetition):\n",
    "    simulation = shuffled.sample(37, with_replacement = True)\n",
    "    mean_gpa = np.append(mean_gpa, gpamean(simulation, 7))\n",
    "       \n",
    "lower = percentile(2.5, mean_gpa)\n",
    "upper = percentile(97.5, mean_gpa)\n",
    "lower, upper"
   ]
  },
  {
   "cell_type": "code",
   "execution_count": 12,
   "metadata": {},
   "outputs": [
    {
     "data": {
      "text/plain": [
       "(3.4745945945945955, 3.702972972972973)"
      ]
     },
     "execution_count": 12,
     "metadata": {},
     "output_type": "execute_result"
    }
   ],
   "source": [
    "repetition = 1000\n",
    "mean_gpa_ = make_array()\n",
    "\n",
    "shuffled_ = no_pacific_gpa.sample(with_replacement = False)\n",
    "\n",
    "for i in np.arange(repetition):\n",
    "    simulation_ = shuffled_.sample(with_replacement = True)\n",
    "    mean_gpa_ = np.append(mean_gpa_, gpamean(simulation_, 7))  \n",
    "    \n",
    "lower = percentile(2.5, mean_gpa_)\n",
    "upper = percentile(97.5, mean_gpa_)\n",
    "lower, upper"
   ]
  },
  {
   "cell_type": "code",
   "execution_count": 61,
   "metadata": {},
   "outputs": [
    {
     "data": {
      "image/png": "[encoded data removed]",
      "text/plain": [
       "<Figure size 432x288 with 1 Axes>"
      ]
     },
     "metadata": {},
     "output_type": "display_data"
    }
   ],
   "source": [
    "histbin = np.arange(3.4, 3.9, 0.01)\n",
    "Table().with_columns(\"Pacific GPA\", mean_gpa, \"No Pacific GPA\", mean_gpa_).hist(bins = histbin)"
   ]
  },
  {
   "cell_type": "markdown",
   "metadata": {},
   "source": [
    "Cal students who are in Pacific time tends to have higher GPA than Non-Pacific students according to bootstrap test."
   ]
  },
  {
   "cell_type": "code",
   "execution_count": 14,
   "metadata": {},
   "outputs": [
    {
     "data": {
      "text/html": [
       "<table border=\"1\" class=\"dataframe\">\n",
       "    <thead>\n",
       "        <tr>\n",
       "            <th>Pacific Time</th> <th>Sleep Needed</th> <th>Relationship</th> <th>Sleep Time</th> <th>Sleep Hours</th> <th>Quality</th> <th>Ability</th> <th>GPA</th> <th>Get Up</th>\n",
       "        </tr>\n",
       "    </thead>\n",
       "    <tbody>\n",
       "        <tr>\n",
       "            <td>Y           </td> <td>6           </td> <td>P           </td> <td>1         </td> <td>8          </td> <td>3      </td> <td>3      </td> <td>3.8 </td> <td>9     </td>\n",
       "        </tr>\n",
       "        <tr>\n",
       "            <td>Y           </td> <td>7           </td> <td>P           </td> <td>2         </td> <td>7          </td> <td>4      </td> <td>5      </td> <td>3.78</td> <td>9     </td>\n",
       "        </tr>\n",
       "        <tr>\n",
       "            <td>Y           </td> <td>8           </td> <td>P           </td> <td>3         </td> <td>8          </td> <td>4      </td> <td>2      </td> <td>3.9 </td> <td>11    </td>\n",
       "        </tr>\n",
       "        <tr>\n",
       "            <td>Y           </td> <td>8           </td> <td>P           </td> <td>3         </td> <td>7          </td> <td>4      </td> <td>1      </td> <td>3.01</td> <td>10    </td>\n",
       "        </tr>\n",
       "        <tr>\n",
       "            <td>N           </td> <td>8           </td> <td>P           </td> <td>3         </td> <td>7          </td> <td>5      </td> <td>5      </td> <td>0   </td> <td>10    </td>\n",
       "        </tr>\n",
       "        <tr>\n",
       "            <td>Y           </td> <td>8           </td> <td>P           </td> <td>2         </td> <td>8          </td> <td>4      </td> <td>3      </td> <td>3.74</td> <td>10    </td>\n",
       "        </tr>\n",
       "        <tr>\n",
       "            <td>Y           </td> <td>8           </td> <td>P           </td> <td>1         </td> <td>5          </td> <td>2      </td> <td>4      </td> <td>3.7 </td> <td>6     </td>\n",
       "        </tr>\n",
       "        <tr>\n",
       "            <td>Y           </td> <td>8           </td> <td>P           </td> <td>3         </td> <td>6          </td> <td>4      </td> <td>4      </td> <td>3.3 </td> <td>9     </td>\n",
       "        </tr>\n",
       "        <tr>\n",
       "            <td>N           </td> <td>6           </td> <td>P           </td> <td>6         </td> <td>6          </td> <td>4      </td> <td>4      </td> <td>0   </td> <td>12    </td>\n",
       "        </tr>\n",
       "        <tr>\n",
       "            <td>Y           </td> <td>8           </td> <td>P           </td> <td>1.5       </td> <td>6          </td> <td>3      </td> <td>5      </td> <td>4   </td> <td>7.5   </td>\n",
       "        </tr>\n",
       "    </tbody>\n",
       "</table>\n",
       "<p>... (121 rows omitted)</p>"
      ],
      "text/plain": [
       "Pacific Time | Sleep Needed | Relationship | Sleep Time | Sleep Hours | Quality | Ability | GPA  | Get Up\n",
       "Y            | 6            | P            | 1          | 8           | 3       | 3       | 3.8  | 9\n",
       "Y            | 7            | P            | 2          | 7           | 4       | 5       | 3.78 | 9\n",
       "Y            | 8            | P            | 3          | 8           | 4       | 2       | 3.9  | 11\n",
       "Y            | 8            | P            | 3          | 7           | 4       | 1       | 3.01 | 10\n",
       "N            | 8            | P            | 3          | 7           | 5       | 5       | 0    | 10\n",
       "Y            | 8            | P            | 2          | 8           | 4       | 3       | 3.74 | 10\n",
       "Y            | 8            | P            | 1          | 5           | 2       | 4       | 3.7  | 6\n",
       "Y            | 8            | P            | 3          | 6           | 4       | 4       | 3.3  | 9\n",
       "N            | 6            | P            | 6          | 6           | 4       | 4       | 0    | 12\n",
       "Y            | 8            | P            | 1.5        | 6           | 3       | 5       | 4    | 7.5\n",
       "... (121 rows omitted)"
      ]
     },
     "execution_count": 14,
     "metadata": {},
     "output_type": "execute_result"
    }
   ],
   "source": [
    "new = sleep.with_column(\"Get Up\", sleep.column(3) + sleep.column(4))\n",
    "new"
   ]
  },
  {
   "cell_type": "code",
   "execution_count": 15,
   "metadata": {},
   "outputs": [
    {
     "data": {
      "text/plain": [
       "(8.63953488372093, 9.766666666666667)"
      ]
     },
     "execution_count": 15,
     "metadata": {},
     "output_type": "execute_result"
    }
   ],
   "source": [
    "#Get Up Difference\n",
    "np.mean(new.where(\"Pacific Time\", are.equal_to(\"Y\")).column(\"Get Up\")),np.mean(new.where(\"Pacific Time\", are.equal_to(\"N\")).column(\"Get Up\"))"
   ]
  },
  {
   "cell_type": "markdown",
   "metadata": {},
   "source": [
    "Average wake up time <br>\n",
    "Pacific Time:8:37 AM (student's local time) <br>\n",
    "Non-Pacific Time:9:45 AM (student's local time) <br>"
   ]
  },
  {
   "cell_type": "code",
   "execution_count": 16,
   "metadata": {},
   "outputs": [
    {
     "data": {
      "text/plain": [
       "(1.5988372093023255, 3.4555555555555557)"
      ]
     },
     "execution_count": 16,
     "metadata": {},
     "output_type": "execute_result"
    }
   ],
   "source": [
    "#sleep time difference\n",
    "pacific = sleep.where(\"Pacific Time\", are.equal_to(\"Y\"))\n",
    "no_pacific = sleep.where(\"Pacific Time\", are.equal_to(\"N\"))\n",
    "np.mean(pacific.column(3)), np.mean(no_pacific.column(3))"
   ]
  },
  {
   "cell_type": "markdown",
   "metadata": {},
   "source": [
    "Average bedtime<br>\n",
    "Pacific Time:1:36 AM (student's local time)<br>\n",
    "Non-Pacific Time:3:27 AM (student's local time) "
   ]
  },
  {
   "cell_type": "code",
   "execution_count": 17,
   "metadata": {},
   "outputs": [
    {
     "data": {
      "text/plain": [
       "6.790076335877862"
      ]
     },
     "execution_count": 17,
     "metadata": {},
     "output_type": "execute_result"
    }
   ],
   "source": [
    "#sleep hours\n",
    "np.mean(sleep.column(4))"
   ]
  },
  {
   "cell_type": "markdown",
   "metadata": {},
   "source": [
    "Average hours of sleep (all students)"
   ]
  },
  {
   "cell_type": "code",
   "execution_count": 18,
   "metadata": {},
   "outputs": [
    {
     "data": {
      "text/plain": [
       "(7.040697674418604, 6.311111111111111)"
      ]
     },
     "execution_count": 18,
     "metadata": {},
     "output_type": "execute_result"
    }
   ],
   "source": [
    "#sleep hours difference\n",
    "np.mean(pacific.column(4)), np.mean(no_pacific.column(4))"
   ]
  },
  {
   "cell_type": "markdown",
   "metadata": {},
   "source": [
    "Average hours of sleep:<br>\n",
    "Pacific time: 7 hours<br>\n",
    "Non-Pacific time: 6.3 hours"
   ]
  },
  {
   "cell_type": "code",
   "execution_count": 19,
   "metadata": {},
   "outputs": [
    {
     "data": {
      "text/plain": [
       "3.1068702290076335"
      ]
     },
     "execution_count": 19,
     "metadata": {},
     "output_type": "execute_result"
    }
   ],
   "source": [
    "#quality\n",
    "np.mean(sleep.column(5))"
   ]
  },
  {
   "cell_type": "markdown",
   "metadata": {},
   "source": [
    "Average sleep quality (all students on a scale of 1-5 self-rated)"
   ]
  },
  {
   "cell_type": "code",
   "execution_count": 62,
   "metadata": {},
   "outputs": [
    {
     "data": {
      "text/plain": [
       "(3.4069767441860463, 2.533333333333333)"
      ]
     },
     "execution_count": 62,
     "metadata": {},
     "output_type": "execute_result"
    }
   ],
   "source": [
    "#quality difference\n",
    "np.mean(pacific.column(5)), np.mean(no_pacific.column(5))"
   ]
  },
  {
   "cell_type": "markdown",
   "metadata": {},
   "source": [
    "Average sleep quality:<br>\n",
    "Pacific time: 3.4 <br>\n",
    "Non-Pacific time: 2.53"
   ]
  },
  {
   "cell_type": "code",
   "execution_count": 63,
   "metadata": {},
   "outputs": [
    {
     "data": {
      "text/plain": [
       "3.0839694656488548"
      ]
     },
     "execution_count": 63,
     "metadata": {},
     "output_type": "execute_result"
    }
   ],
   "source": [
    "#ability\n",
    "np.mean(sleep.column(6))"
   ]
  },
  {
   "cell_type": "markdown",
   "metadata": {},
   "source": [
    "Average ability to sleep (all students on a scale of 1-5 self-rated)"
   ]
  },
  {
   "cell_type": "code",
   "execution_count": 64,
   "metadata": {},
   "outputs": [
    {
     "data": {
      "text/plain": [
       "(3.244186046511628, 2.7777777777777777)"
      ]
     },
     "execution_count": 64,
     "metadata": {},
     "output_type": "execute_result"
    }
   ],
   "source": [
    "#ability difference\n",
    "np.mean(pacific.column(6)), np.mean(no_pacific.column(6))"
   ]
  },
  {
   "cell_type": "markdown",
   "metadata": {},
   "source": [
    "Average ability to sleep:<br>\n",
    "Pacific time: 3.2 <br>\n",
    "Non-Pacific time: 2.77"
   ]
  },
  {
   "cell_type": "code",
   "execution_count": 23,
   "metadata": {},
   "outputs": [
    {
     "data": {
      "text/plain": [
       "3.636944444444444"
      ]
     },
     "execution_count": 23,
     "metadata": {},
     "output_type": "execute_result"
    }
   ],
   "source": [
    "#GPA\n",
    "gpa = sleep.where(\"GPA\", are.above(1))\n",
    "np.mean(gpa.column(7))"
   ]
  },
  {
   "cell_type": "markdown",
   "metadata": {},
   "source": [
    "Average GPA of all students"
   ]
  },
  {
   "cell_type": "code",
   "execution_count": 24,
   "metadata": {},
   "outputs": [
    {
     "data": {
      "text/plain": [
       "(3.6592957746478874, 3.594054054054054)"
      ]
     },
     "execution_count": 24,
     "metadata": {},
     "output_type": "execute_result"
    }
   ],
   "source": [
    "#GPA difference\n",
    "np.mean(gpa.where(\"Pacific Time\", are.equal_to(\"Y\")).column(7)), np.mean(gpa.where(\"Pacific Time\", are.equal_to(\"N\")).column(7))"
   ]
  },
  {
   "cell_type": "markdown",
   "metadata": {},
   "source": [
    "Average GPA:<br>\n",
    "Pacific time: 3.66 <br>\n",
    "Non-Pacific time: 3.59"
   ]
  },
  {
   "cell_type": "code",
   "execution_count": 25,
   "metadata": {},
   "outputs": [
    {
     "data": {
      "text/plain": [
       "(1.791044776119403, 2.4722222222222223)"
      ]
     },
     "execution_count": 25,
     "metadata": {},
     "output_type": "execute_result"
    }
   ],
   "source": [
    "#sleep time for high GPA, sleep time for low GPA\n",
    "gpa1 = gpa.where(\"GPA\", are.above(3.60))\n",
    "gpa2 = gpa.where(\"GPA\", are.below(3.60))\n",
    "np.mean(gpa1.column(3)), np.mean(gpa2.column(3))"
   ]
  },
  {
   "cell_type": "markdown",
   "metadata": {},
   "source": [
    "Student who has GPA above 3.6 went to bed at 1:47 AM on average<br>\n",
    "Student who has GPA below 3.6 went to bed at 2:30 AM on average<br>"
   ]
  },
  {
   "cell_type": "code",
   "execution_count": 26,
   "metadata": {},
   "outputs": [
    {
     "data": {
      "text/plain": [
       "(7.029850746268656, 6.680555555555555)"
      ]
     },
     "execution_count": 26,
     "metadata": {},
     "output_type": "execute_result"
    }
   ],
   "source": [
    "#sleep hours for high GPA, sleep hours for low GPA\n",
    "np.mean(gpa1.column(4)), np.mean(gpa2.column(4))"
   ]
  },
  {
   "cell_type": "markdown",
   "metadata": {},
   "source": [
    "Student who has GPA above 3.6 on average slept 7 hours a night this past semester<br>\n",
    "Student who has GPA below 3.6 on average slept 6.68 hours a night this past semester<br>"
   ]
  },
  {
   "cell_type": "code",
   "execution_count": 27,
   "metadata": {},
   "outputs": [
    {
     "data": {
      "text/plain": [
       "(3.2388059701492535, 2.8333333333333335)"
      ]
     },
     "execution_count": 27,
     "metadata": {},
     "output_type": "execute_result"
    }
   ],
   "source": [
    "#quality for high GPA, quality for low GP\n",
    "np.mean(gpa1.column(5)), np.mean(gpa2.column(5))"
   ]
  },
  {
   "cell_type": "markdown",
   "metadata": {},
   "source": [
    "Students with higher GPA reported higher sleep quality"
   ]
  },
  {
   "cell_type": "code",
   "execution_count": 61,
   "metadata": {},
   "outputs": [
    {
     "data": {
      "text/plain": [
       "(3.1492537313432836, 2.9722222222222223)"
      ]
     },
     "execution_count": 61,
     "metadata": {},
     "output_type": "execute_result"
    }
   ],
   "source": [
    "#ability for high GPA, ability for low GPA\n",
    "np.mean(gpa1.column(6)),np.mean(gpa2.column(6))"
   ]
  },
  {
   "cell_type": "markdown",
   "metadata": {},
   "source": [
    "Students with higher GPA reported better ability to fall asleep"
   ]
  },
  {
   "cell_type": "code",
   "execution_count": 62,
   "metadata": {},
   "outputs": [
    {
     "data": {
      "image/png": "[encoded data removed]",
      "text/plain": [
       "<Figure size 432x288 with 1 Axes>"
      ]
     },
     "metadata": {},
     "output_type": "display_data"
    }
   ],
   "source": [
    "sleep.relabel(\"Sleep Hours\", \"Sleep Received\").hist(\"Sleep Needed\", \"Sleep Received\")"
   ]
  },
  {
   "cell_type": "markdown",
   "metadata": {},
   "source": [
    "Amount of sleep students think they need VS amount of sleep received for the past semester."
   ]
  },
  {
   "cell_type": "code",
   "execution_count": 65,
   "metadata": {},
   "outputs": [
    {
     "data": {
      "image/png": "[encoded data removed]",
      "text/plain": [
       "<Figure size 432x288 with 1 Axes>"
      ]
     },
     "metadata": {},
     "output_type": "display_data"
    }
   ],
   "source": [
    "sleep.hist(\"Quality\",\"Ability\")"
   ]
  },
  {
   "cell_type": "code",
   "execution_count": 54,
   "metadata": {},
   "outputs": [
    {
     "data": {
      "image/png": "[encoded data removed]",
      "text/plain": [
       "<Figure size 360x360 with 1 Axes>"
      ]
     },
     "metadata": {},
     "output_type": "display_data"
    }
   ],
   "source": [
    "scatter_fit(gpa, \"Sleep Time\", \"GPA\")"
   ]
  },
  {
   "cell_type": "code",
   "execution_count": 55,
   "metadata": {},
   "outputs": [
    {
     "name": "stdout",
     "output_type": "stream",
     "text": [
      "-0.13316869261206643\n"
     ]
    }
   ],
   "source": [
    "print(correlation(gpa, \"Sleep Time\", \"GPA\"))"
   ]
  },
  {
   "cell_type": "markdown",
   "metadata": {},
   "source": [
    "There is a negative correlation between bedtime(hours from 10 pm) and GPA, with a 0.133 r-value."
   ]
  },
  {
   "cell_type": "code",
   "execution_count": 52,
   "metadata": {
    "scrolled": true
   },
   "outputs": [
    {
     "data": {
      "image/png": "[encoded data removed]",
      "text/plain": [
       "<Figure size 360x360 with 1 Axes>"
      ]
     },
     "metadata": {},
     "output_type": "display_data"
    }
   ],
   "source": [
    "scatter_fit(gpa, \"Sleep Hours\", \"GPA\")"
   ]
  },
  {
   "cell_type": "code",
   "execution_count": 53,
   "metadata": {},
   "outputs": [
    {
     "name": "stdout",
     "output_type": "stream",
     "text": [
      "0.024583184465485384\n"
     ]
    }
   ],
   "source": [
    "print(correlation(gpa, \"Sleep Hours\", \"GPA\"))"
   ]
  },
  {
   "cell_type": "markdown",
   "metadata": {},
   "source": [
    "Our data did not show a correlation between hours of sleeping and GPA"
   ]
  }
 ],
 "metadata": {
  "kernelspec": {
   "display_name": "Python 3",
   "language": "python",
   "name": "python3"
  },
  "language_info": {
   "codemirror_mode": {
    "name": "ipython",
    "version": 3
   },
   "file_extension": ".py",
   "mimetype": "text/x-python",
   "name": "python",
   "nbconvert_exporter": "python",
   "pygments_lexer": "ipython3",
   "version": "3.7.6"
  }
 },
 "nbformat": 4,
 "nbformat_minor": 4
}
